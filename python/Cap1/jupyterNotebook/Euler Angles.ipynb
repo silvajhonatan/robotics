{
 "cells": [
  {
   "cell_type": "code",
   "execution_count": 74,
   "metadata": {
    "collapsed": true
   },
   "outputs": [],
   "source": [
    "from sympy import *\n",
    "init_printing()"
   ]
  },
  {
   "cell_type": "code",
   "execution_count": 75,
   "metadata": {
    "collapsed": false
   },
   "outputs": [],
   "source": [
    "alpha, a, d, theta = symbols('alpha a d theta')"
   ]
  },
  {
   "cell_type": "code",
   "execution_count": 76,
   "metadata": {
    "collapsed": false
   },
   "outputs": [],
   "source": [
    "def sTx(v):\n",
    "    R = Matrix([[1,0,0,0],[0,cos(v),-sin(v),0],[0, sin(v), cos(v),0],[0,0,0,1]])\n",
    "    return R\n",
    "\n",
    "def sTy(v):\n",
    "    R = Matrix([[cos(v),0,sin(v),0],[0,1,0,0],[sin(v), 0, cos(v),0],[0,0,0,1]])\n",
    "    return R\n",
    "\n",
    "def sTz(v):\n",
    "    R = Matrix([[cos(v),-sin(v),0,0],[sin(v),cos(v),0,0],[0, 0, 1,0],[0,0,0,1]])\n",
    "    return R\n",
    "\n",
    "def sD(v,op):\n",
    "    if op.lower() == 'x':\n",
    "        D = Matrix([[1,0,0,v],[0,1,0,0],[0,0,1,0],[0,0,0,1]])\n",
    "    if op.lower() == 'y':\n",
    "        D = Matrix([[1,0,0,0],[0,1,0,v],[0,0,1,0],[0,0,0,1]])\n",
    "    if op.lower() == 'z':\n",
    "        D = Matrix([[1,0,0,0],[0,1,0,0],[0,0,1,v],[0,0,0,1]])\n",
    "    return D"
   ]
  },
  {
   "cell_type": "code",
   "execution_count": 77,
   "metadata": {
    "collapsed": false
   },
   "outputs": [
    {
     "data": {
      "text/latex": [
       "$$\\left[\\begin{matrix}1 & 0 & 0 & 0\\\\0 & \\cos{\\left (\\alpha \\right )} & - \\sin{\\left (\\alpha \\right )} & 0\\\\0 & \\sin{\\left (\\alpha \\right )} & \\cos{\\left (\\alpha \\right )} & 0\\\\0 & 0 & 0 & 1\\end{matrix}\\right]$$"
      ],
      "text/plain": [
       "⎡1    0        0     0⎤\n",
       "⎢                     ⎥\n",
       "⎢0  cos(α)  -sin(α)  0⎥\n",
       "⎢                     ⎥\n",
       "⎢0  sin(α)  cos(α)   0⎥\n",
       "⎢                     ⎥\n",
       "⎣0    0        0     1⎦"
      ]
     },
     "execution_count": 77,
     "metadata": {},
     "output_type": "execute_result"
    }
   ],
   "source": [
    "Tx = sTx(alpha)\n",
    "Tx"
   ]
  },
  {
   "cell_type": "code",
   "execution_count": 78,
   "metadata": {
    "collapsed": false
   },
   "outputs": [
    {
     "data": {
      "text/latex": [
       "$$\\left[\\begin{matrix}1 & 0 & 0 & 0\\\\0 & 1 & 0 & 0\\\\0 & 0 & 1 & d\\\\0 & 0 & 0 & 1\\end{matrix}\\right]$$"
      ],
      "text/plain": [
       "⎡1  0  0  0⎤\n",
       "⎢          ⎥\n",
       "⎢0  1  0  0⎥\n",
       "⎢          ⎥\n",
       "⎢0  0  1  d⎥\n",
       "⎢          ⎥\n",
       "⎣0  0  0  1⎦"
      ]
     },
     "execution_count": 78,
     "metadata": {},
     "output_type": "execute_result"
    }
   ],
   "source": [
    "Dx = sD(d,'x')\n",
    "Dz = sD(d,'z')\n",
    "Dz"
   ]
  },
  {
   "cell_type": "code",
   "execution_count": 81,
   "metadata": {
    "collapsed": true
   },
   "outputs": [],
   "source": [
    "def FrameT():\n",
    "    return sTx(alpha)*sD(a,'x')*sTz(theta)*sD(d,'z')"
   ]
  },
  {
   "cell_type": "code",
   "execution_count": 82,
   "metadata": {
    "collapsed": false
   },
   "outputs": [
    {
     "data": {
      "text/latex": [
       "$$\\left[\\begin{matrix}\\cos{\\left (\\theta \\right )} & - \\sin{\\left (\\theta \\right )} & 0 & a\\\\\\sin{\\left (\\theta \\right )} \\cos{\\left (\\alpha \\right )} & \\cos{\\left (\\alpha \\right )} \\cos{\\left (\\theta \\right )} & - \\sin{\\left (\\alpha \\right )} & - d \\sin{\\left (\\alpha \\right )}\\\\\\sin{\\left (\\alpha \\right )} \\sin{\\left (\\theta \\right )} & \\sin{\\left (\\alpha \\right )} \\cos{\\left (\\theta \\right )} & \\cos{\\left (\\alpha \\right )} & d \\cos{\\left (\\alpha \\right )}\\\\0 & 0 & 0 & 1\\end{matrix}\\right]$$"
      ],
      "text/plain": [
       "⎡   cos(θ)         -sin(θ)        0         a    ⎤\n",
       "⎢                                                ⎥\n",
       "⎢sin(θ)⋅cos(α)  cos(α)⋅cos(θ)  -sin(α)  -d⋅sin(α)⎥\n",
       "⎢                                                ⎥\n",
       "⎢sin(α)⋅sin(θ)  sin(α)⋅cos(θ)  cos(α)   d⋅cos(α) ⎥\n",
       "⎢                                                ⎥\n",
       "⎣      0              0           0         1    ⎦"
      ]
     },
     "execution_count": 82,
     "metadata": {},
     "output_type": "execute_result"
    }
   ],
   "source": [
    "x = FrameT()\n",
    "x"
   ]
  },
  {
   "cell_type": "code",
   "execution_count": null,
   "metadata": {
    "collapsed": true
   },
   "outputs": [],
   "source": []
  }
 ],
 "metadata": {
  "anaconda-cloud": {},
  "kernelspec": {
   "display_name": "Python [conda root]",
   "language": "python",
   "name": "conda-root-py"
  },
  "language_info": {
   "codemirror_mode": {
    "name": "ipython",
    "version": 3
   },
   "file_extension": ".py",
   "mimetype": "text/x-python",
   "name": "python",
   "nbconvert_exporter": "python",
   "pygments_lexer": "ipython3",
   "version": "3.5.2"
  }
 },
 "nbformat": 4,
 "nbformat_minor": 1
}
